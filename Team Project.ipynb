{
 "cells": [
  {
   "cell_type": "markdown",
   "id": "adea67db",
   "metadata": {},
   "source": [
    "## US Traffic Accident Analysis"
   ]
  },
  {
   "cell_type": "markdown",
   "id": "979f61dc",
   "metadata": {},
   "source": [
    "#### Team Member:\n",
    "  Yinghao Wang, Keshuo Liu, Yu Shu, Zhenyang Gai, Simeng Li, Kratik Gupta"
   ]
  },
  {
   "cell_type": "markdown",
   "id": "12b2b7df",
   "metadata": {},
   "source": [
    "#### Problem Definition:"
   ]
  },
  {
   "cell_type": "markdown",
   "id": "29791e78",
   "metadata": {},
   "source": [
    "Our goal is to find out the factors that influence the occurrence of the number of accidents happening in the United States. We will take factors such as location, weather, and daytime into consideration and use Tableau to provide geographical related visualization. We will make analysis through a large-scale dataset to increase the accuracy of detecting relationships between factors and accident rate. We aim at providing suggestions to DMV and drivers about safe driving. "
   ]
  },
  {
   "cell_type": "markdown",
   "id": "b000f1e0",
   "metadata": {},
   "source": [
    "#### Data Source Link:"
   ]
  },
  {
   "cell_type": "markdown",
   "id": "8e14bf5f",
   "metadata": {},
   "source": [
    "1. \"US Traffic Accident\": A Countrywide Traffic Accident Dataset (2016 - 2020). https://www.kaggle.com/sobhanmoosavi/us-accidents\n",
    "2. \"US Population\": United States Census Bureau. https://www.census.gov/"
   ]
  },
  {
   "cell_type": "markdown",
   "id": "09d42db7",
   "metadata": {},
   "source": [
    "#### Data Cleaning Process:"
   ]
  },
  {
   "cell_type": "markdown",
   "id": "920245fb",
   "metadata": {},
   "source": [
    "On Kaggle we found a countrywide car accident dataset, which covers 49 states of the USA. The accident data are collected from February 2016 to Dec 2020, using multiple APIs that provide streaming traffic incident (or event) data. These APIs broadcast traffic data captured by a variety of entities, such as the US and state departments of transportation, law enforcement agencies, traffic cameras, and traffic sensors within the road-networks. Currently, there are about 3 million accident records in this dataset; therefore, datasets need to be cleaned before conducting analysis. With available dataset, we selected records in each year to see how number of accidents changes in 5 years. \n",
    "In the us accident table, each year contains a great number of data. There is more than 3 million accident records. Considering efficiency when performing analysis on datasets and limitations in terms of data size and budget on Google Cloud Platform, 10% of the data in each year is randomly sampled and unioned into one table.\n",
    "Below is an example of random selection process for 2017 datasets:"
   ]
  },
  {
   "cell_type": "code",
   "execution_count": 293,
   "id": "50f2c07a",
   "metadata": {},
   "outputs": [
    {
     "name": "stderr",
     "output_type": "stream",
     "text": [
      "Query complete after 0.00s: 100%|██████████| 2/2 [00:00<00:00, 689.34query/s]                         \n",
      "Downloading: 100%|██████████| 5/5 [00:01<00:00,  3.29rows/s]\n"
     ]
    },
    {
     "data": {
      "text/html": [
       "<div>\n",
       "<style scoped>\n",
       "    .dataframe tbody tr th:only-of-type {\n",
       "        vertical-align: middle;\n",
       "    }\n",
       "\n",
       "    .dataframe tbody tr th {\n",
       "        vertical-align: top;\n",
       "    }\n",
       "\n",
       "    .dataframe thead th {\n",
       "        text-align: right;\n",
       "    }\n",
       "</style>\n",
       "<table border=\"1\" class=\"dataframe\">\n",
       "  <thead>\n",
       "    <tr style=\"text-align: right;\">\n",
       "      <th></th>\n",
       "      <th>ID</th>\n",
       "      <th>Severity</th>\n",
       "      <th>Start_Time</th>\n",
       "      <th>End_Time</th>\n",
       "      <th>Start_Lat</th>\n",
       "      <th>Start_Lng</th>\n",
       "      <th>End_Lat</th>\n",
       "      <th>End_Lng</th>\n",
       "      <th>Distance_mi_</th>\n",
       "      <th>Description</th>\n",
       "      <th>...</th>\n",
       "      <th>Roundabout</th>\n",
       "      <th>Station</th>\n",
       "      <th>Stop</th>\n",
       "      <th>Traffic_Calming</th>\n",
       "      <th>Traffic_Signal</th>\n",
       "      <th>Turning_Loop</th>\n",
       "      <th>Sunrise_Sunset</th>\n",
       "      <th>Civil_Twilight</th>\n",
       "      <th>Nautical_Twilight</th>\n",
       "      <th>Astronomical_Twilight</th>\n",
       "    </tr>\n",
       "  </thead>\n",
       "  <tbody>\n",
       "    <tr>\n",
       "      <th>0</th>\n",
       "      <td>A-1829991</td>\n",
       "      <td>4</td>\n",
       "      <td>2017-02-05 12:01:14+00:00</td>\n",
       "      <td>2017-02-05 18:01:14+00:00</td>\n",
       "      <td>32.604144</td>\n",
       "      <td>-112.869644</td>\n",
       "      <td>32.381274</td>\n",
       "      <td>-112.872400</td>\n",
       "      <td>15.40</td>\n",
       "      <td>Closed between Gilbert and Ajo Well Rd - Road ...</td>\n",
       "      <td>...</td>\n",
       "      <td>False</td>\n",
       "      <td>False</td>\n",
       "      <td>False</td>\n",
       "      <td>False</td>\n",
       "      <td>False</td>\n",
       "      <td>False</td>\n",
       "      <td>Day</td>\n",
       "      <td>Day</td>\n",
       "      <td>Day</td>\n",
       "      <td>Day</td>\n",
       "    </tr>\n",
       "    <tr>\n",
       "      <th>1</th>\n",
       "      <td>A-24095</td>\n",
       "      <td>3</td>\n",
       "      <td>2017-04-12 08:42:05+00:00</td>\n",
       "      <td>2017-04-12 09:24:52+00:00</td>\n",
       "      <td>27.925198</td>\n",
       "      <td>-82.593422</td>\n",
       "      <td>NaN</td>\n",
       "      <td>NaN</td>\n",
       "      <td>0.01</td>\n",
       "      <td>Right lane blocked due to accident on I-275 No...</td>\n",
       "      <td>...</td>\n",
       "      <td>False</td>\n",
       "      <td>False</td>\n",
       "      <td>False</td>\n",
       "      <td>False</td>\n",
       "      <td>False</td>\n",
       "      <td>False</td>\n",
       "      <td>Day</td>\n",
       "      <td>Day</td>\n",
       "      <td>Day</td>\n",
       "      <td>Day</td>\n",
       "    </tr>\n",
       "    <tr>\n",
       "      <th>2</th>\n",
       "      <td>A-1795739</td>\n",
       "      <td>2</td>\n",
       "      <td>2017-08-23 16:12:20+00:00</td>\n",
       "      <td>2017-08-23 16:41:48+00:00</td>\n",
       "      <td>37.885376</td>\n",
       "      <td>-122.516586</td>\n",
       "      <td>37.885376</td>\n",
       "      <td>-122.516586</td>\n",
       "      <td>0.00</td>\n",
       "      <td>#1 lane blocked due to accident on US-101 Nort...</td>\n",
       "      <td>...</td>\n",
       "      <td>False</td>\n",
       "      <td>False</td>\n",
       "      <td>False</td>\n",
       "      <td>False</td>\n",
       "      <td>False</td>\n",
       "      <td>False</td>\n",
       "      <td>Day</td>\n",
       "      <td>Day</td>\n",
       "      <td>Day</td>\n",
       "      <td>Day</td>\n",
       "    </tr>\n",
       "    <tr>\n",
       "      <th>3</th>\n",
       "      <td>A-28611</td>\n",
       "      <td>2</td>\n",
       "      <td>2017-05-31 14:51:29+00:00</td>\n",
       "      <td>2017-05-31 20:51:29+00:00</td>\n",
       "      <td>42.212128</td>\n",
       "      <td>-72.613529</td>\n",
       "      <td>42.212128</td>\n",
       "      <td>-72.613529</td>\n",
       "      <td>0.00</td>\n",
       "      <td>At Linden St - Accident.</td>\n",
       "      <td>...</td>\n",
       "      <td>False</td>\n",
       "      <td>False</td>\n",
       "      <td>False</td>\n",
       "      <td>False</td>\n",
       "      <td>False</td>\n",
       "      <td>False</td>\n",
       "      <td>Day</td>\n",
       "      <td>Day</td>\n",
       "      <td>Day</td>\n",
       "      <td>Day</td>\n",
       "    </tr>\n",
       "    <tr>\n",
       "      <th>4</th>\n",
       "      <td>A-1497379</td>\n",
       "      <td>2</td>\n",
       "      <td>2017-11-17 13:18:57+00:00</td>\n",
       "      <td>2017-11-17 14:33:44+00:00</td>\n",
       "      <td>42.114193</td>\n",
       "      <td>-72.621414</td>\n",
       "      <td>42.114193</td>\n",
       "      <td>-72.621414</td>\n",
       "      <td>0.00</td>\n",
       "      <td>Slow traffic due to serious accident on US-5 R...</td>\n",
       "      <td>...</td>\n",
       "      <td>False</td>\n",
       "      <td>False</td>\n",
       "      <td>False</td>\n",
       "      <td>False</td>\n",
       "      <td>False</td>\n",
       "      <td>False</td>\n",
       "      <td>Day</td>\n",
       "      <td>Day</td>\n",
       "      <td>Day</td>\n",
       "      <td>Day</td>\n",
       "    </tr>\n",
       "  </tbody>\n",
       "</table>\n",
       "<p>5 rows × 47 columns</p>\n",
       "</div>"
      ],
      "text/plain": [
       "          ID  Severity                Start_Time                  End_Time  \\\n",
       "0  A-1829991         4 2017-02-05 12:01:14+00:00 2017-02-05 18:01:14+00:00   \n",
       "1    A-24095         3 2017-04-12 08:42:05+00:00 2017-04-12 09:24:52+00:00   \n",
       "2  A-1795739         2 2017-08-23 16:12:20+00:00 2017-08-23 16:41:48+00:00   \n",
       "3    A-28611         2 2017-05-31 14:51:29+00:00 2017-05-31 20:51:29+00:00   \n",
       "4  A-1497379         2 2017-11-17 13:18:57+00:00 2017-11-17 14:33:44+00:00   \n",
       "\n",
       "   Start_Lat   Start_Lng    End_Lat     End_Lng  Distance_mi_  \\\n",
       "0  32.604144 -112.869644  32.381274 -112.872400         15.40   \n",
       "1  27.925198  -82.593422        NaN         NaN          0.01   \n",
       "2  37.885376 -122.516586  37.885376 -122.516586          0.00   \n",
       "3  42.212128  -72.613529  42.212128  -72.613529          0.00   \n",
       "4  42.114193  -72.621414  42.114193  -72.621414          0.00   \n",
       "\n",
       "                                         Description  ...  Roundabout Station  \\\n",
       "0  Closed between Gilbert and Ajo Well Rd - Road ...  ...       False   False   \n",
       "1  Right lane blocked due to accident on I-275 No...  ...       False   False   \n",
       "2  #1 lane blocked due to accident on US-101 Nort...  ...       False   False   \n",
       "3                           At Linden St - Accident.  ...       False   False   \n",
       "4  Slow traffic due to serious accident on US-5 R...  ...       False   False   \n",
       "\n",
       "    Stop Traffic_Calming Traffic_Signal Turning_Loop Sunrise_Sunset  \\\n",
       "0  False           False          False        False            Day   \n",
       "1  False           False          False        False            Day   \n",
       "2  False           False          False        False            Day   \n",
       "3  False           False          False        False            Day   \n",
       "4  False           False          False        False            Day   \n",
       "\n",
       "  Civil_Twilight Nautical_Twilight Astronomical_Twilight  \n",
       "0            Day               Day                   Day  \n",
       "1            Day               Day                   Day  \n",
       "2            Day               Day                   Day  \n",
       "3            Day               Day                   Day  \n",
       "4            Day               Day                   Day  \n",
       "\n",
       "[5 rows x 47 columns]"
      ]
     },
     "execution_count": 293,
     "metadata": {},
     "output_type": "execute_result"
    }
   ],
   "source": [
    "%%bigquery\n",
    "SELECT * FROM `ba775-project-team1.dataset_demo.us_traffic_accidents`\n",
    "WHERE rand() <= 0.1 AND  extract(year from start_time) = 2017\n",
    "LIMIT 5;"
   ]
  },
  {
   "cell_type": "markdown",
   "id": "cd8cc5ef",
   "metadata": {},
   "source": [
    "After the first step of selecting sample data, some invalid rows were observed. Furthermore, we don't need all 47 columns from the orignal dataset. For example we don't need \"country\" column since all records happened only in the United States. We also need to exclude some invalid data when the state name is null or weather condition is unknown if we want to process related analysis.\n",
    "The filtering process is presented below:"
   ]
  },
  {
   "cell_type": "code",
   "execution_count": 294,
   "id": "7bf33c24",
   "metadata": {},
   "outputs": [
    {
     "name": "stderr",
     "output_type": "stream",
     "text": [
      "Query complete after 0.00s: 100%|██████████| 1/1 [00:00<00:00, 651.59query/s] \n",
      "Downloading: 100%|██████████| 5/5 [00:01<00:00,  3.12rows/s]\n"
     ]
    },
    {
     "data": {
      "text/html": [
       "<div>\n",
       "<style scoped>\n",
       "    .dataframe tbody tr th:only-of-type {\n",
       "        vertical-align: middle;\n",
       "    }\n",
       "\n",
       "    .dataframe tbody tr th {\n",
       "        vertical-align: top;\n",
       "    }\n",
       "\n",
       "    .dataframe thead th {\n",
       "        text-align: right;\n",
       "    }\n",
       "</style>\n",
       "<table border=\"1\" class=\"dataframe\">\n",
       "  <thead>\n",
       "    <tr style=\"text-align: right;\">\n",
       "      <th></th>\n",
       "      <th>ID</th>\n",
       "      <th>Severity</th>\n",
       "      <th>State</th>\n",
       "      <th>Time</th>\n",
       "      <th>Month</th>\n",
       "      <th>Hour</th>\n",
       "      <th>Weekday</th>\n",
       "      <th>Weather</th>\n",
       "      <th>Temp</th>\n",
       "      <th>Visibility</th>\n",
       "      <th>Preciputation</th>\n",
       "      <th>Railway</th>\n",
       "      <th>Station</th>\n",
       "      <th>Traffic_Signal</th>\n",
       "    </tr>\n",
       "  </thead>\n",
       "  <tbody>\n",
       "    <tr>\n",
       "      <th>0</th>\n",
       "      <td>A-38249</td>\n",
       "      <td>2</td>\n",
       "      <td>NY</td>\n",
       "      <td>2016-09-01 09:14:56+00:00</td>\n",
       "      <td>9</td>\n",
       "      <td>9</td>\n",
       "      <td>Thursday</td>\n",
       "      <td>Light Rain</td>\n",
       "      <td>72.0</td>\n",
       "      <td>5.00</td>\n",
       "      <td>0.02</td>\n",
       "      <td>False</td>\n",
       "      <td>False</td>\n",
       "      <td>False</td>\n",
       "    </tr>\n",
       "    <tr>\n",
       "      <th>1</th>\n",
       "      <td>A-1164713</td>\n",
       "      <td>3</td>\n",
       "      <td>NY</td>\n",
       "      <td>2020-04-18 07:13:47+00:00</td>\n",
       "      <td>4</td>\n",
       "      <td>7</td>\n",
       "      <td>Saturday</td>\n",
       "      <td>Fog</td>\n",
       "      <td>40.0</td>\n",
       "      <td>0.75</td>\n",
       "      <td>0.00</td>\n",
       "      <td>False</td>\n",
       "      <td>False</td>\n",
       "      <td>False</td>\n",
       "    </tr>\n",
       "    <tr>\n",
       "      <th>2</th>\n",
       "      <td>A-1251601</td>\n",
       "      <td>2</td>\n",
       "      <td>NY</td>\n",
       "      <td>2017-10-09 15:46:08+00:00</td>\n",
       "      <td>10</td>\n",
       "      <td>15</td>\n",
       "      <td>Monday</td>\n",
       "      <td>Light Rain</td>\n",
       "      <td>72.0</td>\n",
       "      <td>1.20</td>\n",
       "      <td>0.00</td>\n",
       "      <td>False</td>\n",
       "      <td>False</td>\n",
       "      <td>False</td>\n",
       "    </tr>\n",
       "    <tr>\n",
       "      <th>3</th>\n",
       "      <td>A-597940</td>\n",
       "      <td>2</td>\n",
       "      <td>NY</td>\n",
       "      <td>2016-07-25 08:53:43+00:00</td>\n",
       "      <td>7</td>\n",
       "      <td>8</td>\n",
       "      <td>Monday</td>\n",
       "      <td>Light Rain</td>\n",
       "      <td>78.1</td>\n",
       "      <td>10.00</td>\n",
       "      <td>0.00</td>\n",
       "      <td>False</td>\n",
       "      <td>False</td>\n",
       "      <td>False</td>\n",
       "    </tr>\n",
       "    <tr>\n",
       "      <th>4</th>\n",
       "      <td>A-2587815</td>\n",
       "      <td>2</td>\n",
       "      <td>DC</td>\n",
       "      <td>2020-11-12 15:55:38+00:00</td>\n",
       "      <td>11</td>\n",
       "      <td>15</td>\n",
       "      <td>Thursday</td>\n",
       "      <td>Cloudy</td>\n",
       "      <td>52.0</td>\n",
       "      <td>10.00</td>\n",
       "      <td>0.01</td>\n",
       "      <td>False</td>\n",
       "      <td>False</td>\n",
       "      <td>False</td>\n",
       "    </tr>\n",
       "  </tbody>\n",
       "</table>\n",
       "</div>"
      ],
      "text/plain": [
       "          ID  Severity State                      Time  Month  Hour   Weekday  \\\n",
       "0    A-38249         2    NY 2016-09-01 09:14:56+00:00      9     9  Thursday   \n",
       "1  A-1164713         3    NY 2020-04-18 07:13:47+00:00      4     7  Saturday   \n",
       "2  A-1251601         2    NY 2017-10-09 15:46:08+00:00     10    15    Monday   \n",
       "3   A-597940         2    NY 2016-07-25 08:53:43+00:00      7     8    Monday   \n",
       "4  A-2587815         2    DC 2020-11-12 15:55:38+00:00     11    15  Thursday   \n",
       "\n",
       "      Weather  Temp  Visibility  Preciputation  Railway  Station  \\\n",
       "0  Light Rain  72.0        5.00           0.02    False    False   \n",
       "1         Fog  40.0        0.75           0.00    False    False   \n",
       "2  Light Rain  72.0        1.20           0.00    False    False   \n",
       "3  Light Rain  78.1       10.00           0.00    False    False   \n",
       "4      Cloudy  52.0       10.00           0.01    False    False   \n",
       "\n",
       "   Traffic_Signal  \n",
       "0           False  \n",
       "1           False  \n",
       "2           False  \n",
       "3           False  \n",
       "4           False  "
      ]
     },
     "execution_count": 294,
     "metadata": {},
     "output_type": "execute_result"
    }
   ],
   "source": [
    "%%bigquery\n",
    "select ID, Severity, State, Start_Time as Time, EXTRACT(month from Start_Time) Month,  EXTRACT(hour FROM Start_Time) Hour, FORMAT_DATE('%A', EXTRACT(date FROM Start_Time)) AS Weekday, Weather_Condition as Weather, Temperature_F_ as Temp, \n",
    "Visibility_mi_ as Visibility, Precipitation_in_ as Preciputation, Railway, Station, Traffic_Signal\n",
    "from `ba775-project-team1.dataset_demo.us_traffic_accidents` \n",
    "where Weather_Condition <> 'nan' \n",
    "and Visibility_mi_ >= 0 \n",
    "and Precipitation_in_ >= 0\n",
    "LIMIT 5;"
   ]
  },
  {
   "cell_type": "markdown",
   "id": "0c3d8207",
   "metadata": {},
   "source": [
    "Note that for all cleaning and filtering processes, a total of around 5000 accidents were filtered, which  accounts for 0.17% of our observing dataset. With such small amount of data eliminated, we can still produce reliable output since it does not influence the analysis output significantlly."
   ]
  },
  {
   "cell_type": "markdown",
   "id": "ec371e2b",
   "metadata": {},
   "source": [
    "#### Analysis Topics"
   ]
  },
  {
   "cell_type": "markdown",
   "id": "480ad6ee",
   "metadata": {},
   "source": [
    "To achieve our objective and get into project proposal, we chose aspects in time of a day, weekday, location (in State and some particular places) and weather to observe underlying affects on traffic accidents and corresponding severity. All data processing performed on Google Big Query."
   ]
  },
  {
   "cell_type": "markdown",
   "id": "196ad4f4",
   "metadata": {},
   "source": [
    "#### Location:"
   ]
  },
  {
   "cell_type": "markdown",
   "id": "410276fc",
   "metadata": {},
   "source": [
    "We analyzed the data to find which state of the country has the highest accidents happened. We found out that California is the state where most of accidents occured at, and number of accidents happended in CA is doubled than the second highest state Florida."
   ]
  },
  {
   "cell_type": "code",
   "execution_count": 314,
   "id": "898e7c86",
   "metadata": {},
   "outputs": [
    {
     "name": "stderr",
     "output_type": "stream",
     "text": [
      "Query complete after 0.00s: 100%|██████████| 1/1 [00:00<00:00, 1001.03query/s]\n",
      "Downloading: 100%|██████████| 5/5 [00:01<00:00,  2.76rows/s]\n"
     ]
    },
    {
     "data": {
      "text/html": [
       "<div>\n",
       "<style scoped>\n",
       "    .dataframe tbody tr th:only-of-type {\n",
       "        vertical-align: middle;\n",
       "    }\n",
       "\n",
       "    .dataframe tbody tr th {\n",
       "        vertical-align: top;\n",
       "    }\n",
       "\n",
       "    .dataframe thead th {\n",
       "        text-align: right;\n",
       "    }\n",
       "</style>\n",
       "<table border=\"1\" class=\"dataframe\">\n",
       "  <thead>\n",
       "    <tr style=\"text-align: right;\">\n",
       "      <th></th>\n",
       "      <th>State</th>\n",
       "      <th>num_of_accidents</th>\n",
       "    </tr>\n",
       "  </thead>\n",
       "  <tbody>\n",
       "    <tr>\n",
       "      <th>0</th>\n",
       "      <td>CA</td>\n",
       "      <td>39209</td>\n",
       "    </tr>\n",
       "    <tr>\n",
       "      <th>1</th>\n",
       "      <td>FL</td>\n",
       "      <td>16078</td>\n",
       "    </tr>\n",
       "    <tr>\n",
       "      <th>2</th>\n",
       "      <td>TX</td>\n",
       "      <td>9688</td>\n",
       "    </tr>\n",
       "    <tr>\n",
       "      <th>3</th>\n",
       "      <td>NY</td>\n",
       "      <td>7161</td>\n",
       "    </tr>\n",
       "    <tr>\n",
       "      <th>4</th>\n",
       "      <td>OR</td>\n",
       "      <td>7123</td>\n",
       "    </tr>\n",
       "  </tbody>\n",
       "</table>\n",
       "</div>"
      ],
      "text/plain": [
       "  State  num_of_accidents\n",
       "0    CA             39209\n",
       "1    FL             16078\n",
       "2    TX              9688\n",
       "3    NY              7161\n",
       "4    OR              7123"
      ]
     },
     "execution_count": 314,
     "metadata": {},
     "output_type": "execute_result"
    }
   ],
   "source": [
    "%%bigquery\n",
    "SELECT State, count(ID) as num_of_accidents\n",
    "FROM `ba775-project-team1.dataset_demo.sample_table_wpopulation`\n",
    "GROUP BY State\n",
    "ORDER BY num_of_accidents DESC\n",
    "LIMIT 5;"
   ]
  },
  {
   "cell_type": "markdown",
   "id": "728f44b1",
   "metadata": {},
   "source": [
    "<img src=\"https://github.com/yinghaow525/BA775-teamproject/blob/charts/Traffic%20Accidents%20Count%20National%20Map.png?raw=True\" width=\"500\" align=\"left\" />"
   ]
  },
  {
   "cell_type": "markdown",
   "id": "d231faae",
   "metadata": {},
   "source": [
    "While if we take state population in to account, and generating new calculation field as accidents per million. California is not the state having the highest traffic accident number. "
   ]
  },
  {
   "cell_type": "code",
   "execution_count": 315,
   "id": "c6f93235",
   "metadata": {},
   "outputs": [
    {
     "name": "stderr",
     "output_type": "stream",
     "text": [
      "Query complete after 0.00s: 100%|██████████| 1/1 [00:00<00:00, 764.27query/s] \n",
      "Downloading: 100%|██████████| 5/5 [00:01<00:00,  3.25rows/s]\n"
     ]
    },
    {
     "data": {
      "text/html": [
       "<div>\n",
       "<style scoped>\n",
       "    .dataframe tbody tr th:only-of-type {\n",
       "        vertical-align: middle;\n",
       "    }\n",
       "\n",
       "    .dataframe tbody tr th {\n",
       "        vertical-align: top;\n",
       "    }\n",
       "\n",
       "    .dataframe thead th {\n",
       "        text-align: right;\n",
       "    }\n",
       "</style>\n",
       "<table border=\"1\" class=\"dataframe\">\n",
       "  <thead>\n",
       "    <tr style=\"text-align: right;\">\n",
       "      <th></th>\n",
       "      <th>State</th>\n",
       "      <th>num_of_accidents</th>\n",
       "      <th>population</th>\n",
       "      <th>accidents_per_million</th>\n",
       "    </tr>\n",
       "  </thead>\n",
       "  <tbody>\n",
       "    <tr>\n",
       "      <th>0</th>\n",
       "      <td>OR</td>\n",
       "      <td>7123</td>\n",
       "      <td>4217737</td>\n",
       "      <td>1689</td>\n",
       "    </tr>\n",
       "    <tr>\n",
       "      <th>1</th>\n",
       "      <td>SC</td>\n",
       "      <td>7121</td>\n",
       "      <td>5148714</td>\n",
       "      <td>1383</td>\n",
       "    </tr>\n",
       "    <tr>\n",
       "      <th>2</th>\n",
       "      <td>CA</td>\n",
       "      <td>39209</td>\n",
       "      <td>39512223</td>\n",
       "      <td>992</td>\n",
       "    </tr>\n",
       "    <tr>\n",
       "      <th>3</th>\n",
       "      <td>MN</td>\n",
       "      <td>5594</td>\n",
       "      <td>5639632</td>\n",
       "      <td>992</td>\n",
       "    </tr>\n",
       "    <tr>\n",
       "      <th>4</th>\n",
       "      <td>UT</td>\n",
       "      <td>2779</td>\n",
       "      <td>3205958</td>\n",
       "      <td>867</td>\n",
       "    </tr>\n",
       "  </tbody>\n",
       "</table>\n",
       "</div>"
      ],
      "text/plain": [
       "  State  num_of_accidents  population  accidents_per_million\n",
       "0    OR              7123     4217737                   1689\n",
       "1    SC              7121     5148714                   1383\n",
       "2    CA             39209    39512223                    992\n",
       "3    MN              5594     5639632                    992\n",
       "4    UT              2779     3205958                    867"
      ]
     },
     "execution_count": 315,
     "metadata": {},
     "output_type": "execute_result"
    }
   ],
   "source": [
    "%%bigquery\n",
    "SELECT State, count(ID) as num_of_accidents, population, cast(count(ID)/population*1000000 as INTEGER) accidents_per_million\n",
    "FROM `ba775-project-team1.dataset_demo.sample_table_wpopulation`\n",
    "GROUP BY State, population\n",
    "ORDER BY accidents_per_million DESC\n",
    "limit 5;"
   ]
  },
  {
   "cell_type": "markdown",
   "id": "3962fad4",
   "metadata": {},
   "source": [
    "<img src=\"https://github.com/yinghaow525/BA775-teamproject/blob/charts/Accidents%20per%20Million%20National%20Map.png?raw=True\" width=\"500\" align =\"left\" />"
   ]
  },
  {
   "cell_type": "markdown",
   "id": "2c98ede4",
   "metadata": {},
   "source": [
    "Q: Did traffic accidents mostly occur around stations？"
   ]
  },
  {
   "cell_type": "markdown",
   "id": "04328e7d",
   "metadata": {},
   "source": [
    "A: The percentages of traffic accidents around stations between 2016 and 2020 were generally low, between 1.6% and 2.3%. This indicates that around station or not is not a major factor for US Traffic Accidents."
   ]
  },
  {
   "cell_type": "code",
   "execution_count": 302,
   "id": "9094b49f",
   "metadata": {},
   "outputs": [
    {
     "name": "stderr",
     "output_type": "stream",
     "text": [
      "Query complete after 0.00s: 100%|██████████| 1/1 [00:00<00:00, 646.87query/s] \n",
      "Downloading: 100%|██████████| 5/5 [00:01<00:00,  3.42rows/s]\n"
     ]
    },
    {
     "data": {
      "text/html": [
       "<div>\n",
       "<style scoped>\n",
       "    .dataframe tbody tr th:only-of-type {\n",
       "        vertical-align: middle;\n",
       "    }\n",
       "\n",
       "    .dataframe tbody tr th {\n",
       "        vertical-align: top;\n",
       "    }\n",
       "\n",
       "    .dataframe thead th {\n",
       "        text-align: right;\n",
       "    }\n",
       "</style>\n",
       "<table border=\"1\" class=\"dataframe\">\n",
       "  <thead>\n",
       "    <tr style=\"text-align: right;\">\n",
       "      <th></th>\n",
       "      <th>Year</th>\n",
       "      <th>Station</th>\n",
       "      <th>Num</th>\n",
       "      <th>Percentage</th>\n",
       "    </tr>\n",
       "  </thead>\n",
       "  <tbody>\n",
       "    <tr>\n",
       "      <th>0</th>\n",
       "      <td>2016</td>\n",
       "      <td>True</td>\n",
       "      <td>44</td>\n",
       "      <td>1.86</td>\n",
       "    </tr>\n",
       "    <tr>\n",
       "      <th>1</th>\n",
       "      <td>2017</td>\n",
       "      <td>True</td>\n",
       "      <td>100</td>\n",
       "      <td>1.89</td>\n",
       "    </tr>\n",
       "    <tr>\n",
       "      <th>2</th>\n",
       "      <td>2018</td>\n",
       "      <td>True</td>\n",
       "      <td>117</td>\n",
       "      <td>1.64</td>\n",
       "    </tr>\n",
       "    <tr>\n",
       "      <th>3</th>\n",
       "      <td>2019</td>\n",
       "      <td>True</td>\n",
       "      <td>858</td>\n",
       "      <td>1.81</td>\n",
       "    </tr>\n",
       "    <tr>\n",
       "      <th>4</th>\n",
       "      <td>2020</td>\n",
       "      <td>True</td>\n",
       "      <td>2125</td>\n",
       "      <td>2.21</td>\n",
       "    </tr>\n",
       "  </tbody>\n",
       "</table>\n",
       "</div>"
      ],
      "text/plain": [
       "   Year  Station   Num  Percentage\n",
       "0  2016     True    44        1.86\n",
       "1  2017     True   100        1.89\n",
       "2  2018     True   117        1.64\n",
       "3  2019     True   858        1.81\n",
       "4  2020     True  2125        2.21"
      ]
     },
     "execution_count": 302,
     "metadata": {},
     "output_type": "execute_result"
    }
   ],
   "source": [
    "%%bigquery\n",
    "SELECT Year, Station, COUNT(ID) Num, ROUND(COUNT(ID)/SUM(COUNT(ID)) OVER(PARTITION BY Year) * 100,2) Percentage\n",
    "FROM `ba775-project-team1.dataset_demo.sample_table_wpopulation`\n",
    "GROUP BY Year, Station\n",
    "ORDER BY Station DESC, Year\n",
    "LIMIT 5"
   ]
  },
  {
   "cell_type": "markdown",
   "id": "d309f11a",
   "metadata": {},
   "source": [
    "<img src=\"https://github.com/yinghaow525/BA775-teamproject/blob/charts/Station_Year.png?raw=True\" align=\"left\" width=\"1800\"/>"
   ]
  },
  {
   "cell_type": "markdown",
   "id": "53b618d2",
   "metadata": {},
   "source": [
    "Q: Did traffic accidents mostly occur around railways？"
   ]
  },
  {
   "cell_type": "markdown",
   "id": "8f1153cf",
   "metadata": {},
   "source": [
    "A: The percentages of traffic accidents around railways between 2016 and 2020 were generally low, between 0.65% and 0.95%. This indicates that around railway or not is not a major factor for US traffic accidents."
   ]
  },
  {
   "cell_type": "code",
   "execution_count": 301,
   "id": "9cf7eea2",
   "metadata": {},
   "outputs": [
    {
     "name": "stderr",
     "output_type": "stream",
     "text": [
      "Query complete after 0.00s: 100%|██████████| 1/1 [00:00<00:00, 614.73query/s] \n",
      "Downloading: 100%|██████████| 5/5 [00:01<00:00,  2.83rows/s]\n"
     ]
    },
    {
     "data": {
      "text/html": [
       "<div>\n",
       "<style scoped>\n",
       "    .dataframe tbody tr th:only-of-type {\n",
       "        vertical-align: middle;\n",
       "    }\n",
       "\n",
       "    .dataframe tbody tr th {\n",
       "        vertical-align: top;\n",
       "    }\n",
       "\n",
       "    .dataframe thead th {\n",
       "        text-align: right;\n",
       "    }\n",
       "</style>\n",
       "<table border=\"1\" class=\"dataframe\">\n",
       "  <thead>\n",
       "    <tr style=\"text-align: right;\">\n",
       "      <th></th>\n",
       "      <th>Year</th>\n",
       "      <th>Railway</th>\n",
       "      <th>Num</th>\n",
       "      <th>Percentage</th>\n",
       "    </tr>\n",
       "  </thead>\n",
       "  <tbody>\n",
       "    <tr>\n",
       "      <th>0</th>\n",
       "      <td>2016</td>\n",
       "      <td>True</td>\n",
       "      <td>16</td>\n",
       "      <td>0.67</td>\n",
       "    </tr>\n",
       "    <tr>\n",
       "      <th>1</th>\n",
       "      <td>2017</td>\n",
       "      <td>True</td>\n",
       "      <td>35</td>\n",
       "      <td>0.66</td>\n",
       "    </tr>\n",
       "    <tr>\n",
       "      <th>2</th>\n",
       "      <td>2018</td>\n",
       "      <td>True</td>\n",
       "      <td>57</td>\n",
       "      <td>0.80</td>\n",
       "    </tr>\n",
       "    <tr>\n",
       "      <th>3</th>\n",
       "      <td>2019</td>\n",
       "      <td>True</td>\n",
       "      <td>446</td>\n",
       "      <td>0.94</td>\n",
       "    </tr>\n",
       "    <tr>\n",
       "      <th>4</th>\n",
       "      <td>2020</td>\n",
       "      <td>True</td>\n",
       "      <td>849</td>\n",
       "      <td>0.88</td>\n",
       "    </tr>\n",
       "  </tbody>\n",
       "</table>\n",
       "</div>"
      ],
      "text/plain": [
       "   Year  Railway  Num  Percentage\n",
       "0  2016     True   16        0.67\n",
       "1  2017     True   35        0.66\n",
       "2  2018     True   57        0.80\n",
       "3  2019     True  446        0.94\n",
       "4  2020     True  849        0.88"
      ]
     },
     "execution_count": 301,
     "metadata": {},
     "output_type": "execute_result"
    }
   ],
   "source": [
    "%%bigquery\n",
    "SELECT Year, Railway, COUNT(ID) Num, ROUND(COUNT(ID)/SUM(COUNT(ID)) OVER(PARTITION BY Year) * 100,2) Percentage\n",
    "FROM `ba775-project-team1.dataset_demo.sample_table_wpopulation`\n",
    "GROUP BY Year, Railway\n",
    "ORDER BY Railway DESC, Year\n",
    "LIMIT 5"
   ]
  },
  {
   "cell_type": "markdown",
   "id": "ebf75443",
   "metadata": {},
   "source": [
    "<img src=\"https://github.com/yinghaow525/BA775-teamproject/blob/charts/Railway_Year.png?raw=True\" align=\"left\" width=\"800\"/>"
   ]
  },
  {
   "cell_type": "markdown",
   "id": "8ee1fd80",
   "metadata": {},
   "source": [
    "Q: Did traffic accidents mostly occur around traffic signals？"
   ]
  },
  {
   "cell_type": "markdown",
   "id": "bb5b287c",
   "metadata": {},
   "source": [
    "A: The percentages of traffic accidents around traffic signals between 2016 and 2020 generally fell between 14% and 15.5%. It's meaningful to discuss cases around traffic signals."
   ]
  },
  {
   "cell_type": "code",
   "execution_count": 303,
   "id": "763c049c",
   "metadata": {},
   "outputs": [
    {
     "name": "stderr",
     "output_type": "stream",
     "text": [
      "Query complete after 0.00s: 100%|██████████| 1/1 [00:00<00:00, 753.69query/s] \n",
      "Downloading: 100%|██████████| 5/5 [00:01<00:00,  3.21rows/s]\n"
     ]
    },
    {
     "data": {
      "text/html": [
       "<div>\n",
       "<style scoped>\n",
       "    .dataframe tbody tr th:only-of-type {\n",
       "        vertical-align: middle;\n",
       "    }\n",
       "\n",
       "    .dataframe tbody tr th {\n",
       "        vertical-align: top;\n",
       "    }\n",
       "\n",
       "    .dataframe thead th {\n",
       "        text-align: right;\n",
       "    }\n",
       "</style>\n",
       "<table border=\"1\" class=\"dataframe\">\n",
       "  <thead>\n",
       "    <tr style=\"text-align: right;\">\n",
       "      <th></th>\n",
       "      <th>Year</th>\n",
       "      <th>Traffic_Signal</th>\n",
       "      <th>Num</th>\n",
       "      <th>Percentage</th>\n",
       "    </tr>\n",
       "  </thead>\n",
       "  <tbody>\n",
       "    <tr>\n",
       "      <th>0</th>\n",
       "      <td>2016</td>\n",
       "      <td>True</td>\n",
       "      <td>352</td>\n",
       "      <td>14.85</td>\n",
       "    </tr>\n",
       "    <tr>\n",
       "      <th>1</th>\n",
       "      <td>2017</td>\n",
       "      <td>True</td>\n",
       "      <td>763</td>\n",
       "      <td>14.41</td>\n",
       "    </tr>\n",
       "    <tr>\n",
       "      <th>2</th>\n",
       "      <td>2018</td>\n",
       "      <td>True</td>\n",
       "      <td>1006</td>\n",
       "      <td>14.08</td>\n",
       "    </tr>\n",
       "    <tr>\n",
       "      <th>3</th>\n",
       "      <td>2019</td>\n",
       "      <td>True</td>\n",
       "      <td>7130</td>\n",
       "      <td>15.01</td>\n",
       "    </tr>\n",
       "    <tr>\n",
       "      <th>4</th>\n",
       "      <td>2020</td>\n",
       "      <td>True</td>\n",
       "      <td>14730</td>\n",
       "      <td>15.29</td>\n",
       "    </tr>\n",
       "  </tbody>\n",
       "</table>\n",
       "</div>"
      ],
      "text/plain": [
       "   Year  Traffic_Signal    Num  Percentage\n",
       "0  2016            True    352       14.85\n",
       "1  2017            True    763       14.41\n",
       "2  2018            True   1006       14.08\n",
       "3  2019            True   7130       15.01\n",
       "4  2020            True  14730       15.29"
      ]
     },
     "execution_count": 303,
     "metadata": {},
     "output_type": "execute_result"
    }
   ],
   "source": [
    "%%bigquery\n",
    "SELECT Year, Traffic_Signal, COUNT(ID) Num, ROUND(COUNT(ID)/SUM(COUNT(ID)) OVER(PARTITION BY Year) * 100,2) Percentage\n",
    "FROM `ba775-project-team1.dataset_demo.sample_table_wpopulation`\n",
    "GROUP BY Year, Traffic_Signal\n",
    "ORDER BY Traffic_Signal DESC, Year\n",
    "LIMIT 5"
   ]
  },
  {
   "cell_type": "markdown",
   "id": "b6ef457e",
   "metadata": {},
   "source": [
    "<img src=\"https://github.com/yinghaow525/BA775-teamproject/blob/charts/Traffic_Signal_Year.png?raw=True\" align=\"left\" width=\"800\"/>"
   ]
  },
  {
   "cell_type": "markdown",
   "id": "fbfaed30",
   "metadata": {},
   "source": [
    "Q: When did traffic accidents occur more often around traffic signals?"
   ]
  },
  {
   "cell_type": "markdown",
   "id": "be6ab0f0",
   "metadata": {},
   "source": [
    "A: From the sampled data, traffic accidents occurred more often around traffic signals during the morning peak and noon break periods."
   ]
  },
  {
   "cell_type": "code",
   "execution_count": 308,
   "id": "2f51786f",
   "metadata": {},
   "outputs": [
    {
     "name": "stderr",
     "output_type": "stream",
     "text": [
      "Query complete after 0.00s: 100%|██████████| 6/6 [00:00<00:00, 2810.57query/s]                        \n",
      "Downloading: 100%|██████████| 6/6 [00:01<00:00,  3.77rows/s]\n"
     ]
    },
    {
     "data": {
      "text/html": [
       "<div>\n",
       "<style scoped>\n",
       "    .dataframe tbody tr th:only-of-type {\n",
       "        vertical-align: middle;\n",
       "    }\n",
       "\n",
       "    .dataframe tbody tr th {\n",
       "        vertical-align: top;\n",
       "    }\n",
       "\n",
       "    .dataframe thead th {\n",
       "        text-align: right;\n",
       "    }\n",
       "</style>\n",
       "<table border=\"1\" class=\"dataframe\">\n",
       "  <thead>\n",
       "    <tr style=\"text-align: right;\">\n",
       "      <th></th>\n",
       "      <th>Weekday</th>\n",
       "      <th>Hour</th>\n",
       "      <th>Traffic_Signal</th>\n",
       "      <th>Percentage</th>\n",
       "    </tr>\n",
       "  </thead>\n",
       "  <tbody>\n",
       "    <tr>\n",
       "      <th>0</th>\n",
       "      <td>Tuesday</td>\n",
       "      <td>11</td>\n",
       "      <td>True</td>\n",
       "      <td>22.58</td>\n",
       "    </tr>\n",
       "    <tr>\n",
       "      <th>1</th>\n",
       "      <td>Wednesday</td>\n",
       "      <td>10</td>\n",
       "      <td>True</td>\n",
       "      <td>21.10</td>\n",
       "    </tr>\n",
       "    <tr>\n",
       "      <th>2</th>\n",
       "      <td>Tuesday</td>\n",
       "      <td>8</td>\n",
       "      <td>True</td>\n",
       "      <td>20.74</td>\n",
       "    </tr>\n",
       "    <tr>\n",
       "      <th>3</th>\n",
       "      <td>Friday</td>\n",
       "      <td>10</td>\n",
       "      <td>True</td>\n",
       "      <td>20.33</td>\n",
       "    </tr>\n",
       "    <tr>\n",
       "      <th>4</th>\n",
       "      <td>Friday</td>\n",
       "      <td>11</td>\n",
       "      <td>True</td>\n",
       "      <td>20.20</td>\n",
       "    </tr>\n",
       "    <tr>\n",
       "      <th>5</th>\n",
       "      <td>Wednesday</td>\n",
       "      <td>7</td>\n",
       "      <td>True</td>\n",
       "      <td>19.97</td>\n",
       "    </tr>\n",
       "  </tbody>\n",
       "</table>\n",
       "</div>"
      ],
      "text/plain": [
       "     Weekday  Hour  Traffic_Signal  Percentage\n",
       "0    Tuesday    11            True       22.58\n",
       "1  Wednesday    10            True       21.10\n",
       "2    Tuesday     8            True       20.74\n",
       "3     Friday    10            True       20.33\n",
       "4     Friday    11            True       20.20\n",
       "5  Wednesday     7            True       19.97"
      ]
     },
     "execution_count": 308,
     "metadata": {},
     "output_type": "execute_result"
    }
   ],
   "source": [
    "%%bigquery\n",
    "SELECT Weekday, Hour, Traffic_Signal, ROUND(COUNT(ID)/SUM(COUNT(ID)) OVER(PARTITION BY Weekday, Hour) * 100,2) Percentage\n",
    "FROM `ba775-project-team1.dataset_demo.sample_table_wpopulation`\n",
    "GROUP BY Weekday, Traffic_Signal, Hour\n",
    "ORDER BY Traffic_Signal DESC, Percentage DESC\n",
    "LIMIT 6"
   ]
  },
  {
   "cell_type": "markdown",
   "id": "12f3cdd3",
   "metadata": {},
   "source": [
    "<img src=\"https://github.com/yinghaow525/BA775-teamproject/blob/charts/Traffic_Signal_Weekday_Hour.png?raw=True\" align=\"left\" width=\"400\"/>"
   ]
  },
  {
   "cell_type": "markdown",
   "id": "fd4b2fee",
   "metadata": {},
   "source": [
    "#### Weather Conditions:"
   ]
  },
  {
   "cell_type": "markdown",
   "id": "6d5b997b",
   "metadata": {},
   "source": [
    "Do more traffic accidents happen when the weather is foggy, rainy, or windy? </br>\n",
    "In this section, we will discuss the frequency of traffic accidents occurance on different weather conditions. "
   ]
  },
  {
   "cell_type": "markdown",
   "id": "e4427dd4",
   "metadata": {},
   "source": [
    "In which weather condition doest the traffic accident occure more? "
   ]
  },
  {
   "cell_type": "markdown",
   "id": "995a1d53",
   "metadata": {},
   "source": [
    "The top 5 weather conditions that most of traffic accidents occured are, fair, cloudy, most cloudy, partly cloudy and light rain. These 5 conditions represent over 80% of traffic accidents. </br>\n",
    "Nearly half of the accidents happened in fair days, others were in cloudy, rainy or snowy days. Out of which cloudy occupies the highest portion. "
   ]
  },
  {
   "cell_type": "code",
   "execution_count": 8,
   "id": "973bf84a",
   "metadata": {},
   "outputs": [
    {
     "name": "stderr",
     "output_type": "stream",
     "text": [
      "Query complete after 0.00s: 100%|██████████| 5/5 [00:00<00:00, 2683.50query/s]                        \n",
      "Downloading: 100%|██████████| 10/10 [00:01<00:00,  7.76rows/s]\n"
     ]
    },
    {
     "data": {
      "text/html": [
       "<div>\n",
       "<style scoped>\n",
       "    .dataframe tbody tr th:only-of-type {\n",
       "        vertical-align: middle;\n",
       "    }\n",
       "\n",
       "    .dataframe tbody tr th {\n",
       "        vertical-align: top;\n",
       "    }\n",
       "\n",
       "    .dataframe thead th {\n",
       "        text-align: right;\n",
       "    }\n",
       "</style>\n",
       "<table border=\"1\" class=\"dataframe\">\n",
       "  <thead>\n",
       "    <tr style=\"text-align: right;\">\n",
       "      <th></th>\n",
       "      <th>Weather_Condition</th>\n",
       "      <th>number</th>\n",
       "      <th>percentage</th>\n",
       "    </tr>\n",
       "  </thead>\n",
       "  <tbody>\n",
       "    <tr>\n",
       "      <th>0</th>\n",
       "      <td>Fair</td>\n",
       "      <td>65596</td>\n",
       "      <td>0.413578</td>\n",
       "    </tr>\n",
       "    <tr>\n",
       "      <th>1</th>\n",
       "      <td>Cloudy</td>\n",
       "      <td>23714</td>\n",
       "      <td>0.149515</td>\n",
       "    </tr>\n",
       "    <tr>\n",
       "      <th>2</th>\n",
       "      <td>Mostly Cloudy</td>\n",
       "      <td>20088</td>\n",
       "      <td>0.126653</td>\n",
       "    </tr>\n",
       "    <tr>\n",
       "      <th>3</th>\n",
       "      <td>Partly Cloudy</td>\n",
       "      <td>13350</td>\n",
       "      <td>0.084171</td>\n",
       "    </tr>\n",
       "    <tr>\n",
       "      <th>4</th>\n",
       "      <td>Light Rain</td>\n",
       "      <td>13241</td>\n",
       "      <td>0.083484</td>\n",
       "    </tr>\n",
       "    <tr>\n",
       "      <th>5</th>\n",
       "      <td>Light Snow</td>\n",
       "      <td>3513</td>\n",
       "      <td>0.022149</td>\n",
       "    </tr>\n",
       "    <tr>\n",
       "      <th>6</th>\n",
       "      <td>Overcast</td>\n",
       "      <td>3360</td>\n",
       "      <td>0.021185</td>\n",
       "    </tr>\n",
       "    <tr>\n",
       "      <th>7</th>\n",
       "      <td>Rain</td>\n",
       "      <td>2968</td>\n",
       "      <td>0.018713</td>\n",
       "    </tr>\n",
       "    <tr>\n",
       "      <th>8</th>\n",
       "      <td>Fog</td>\n",
       "      <td>2591</td>\n",
       "      <td>0.016336</td>\n",
       "    </tr>\n",
       "    <tr>\n",
       "      <th>9</th>\n",
       "      <td>Haze</td>\n",
       "      <td>1537</td>\n",
       "      <td>0.009691</td>\n",
       "    </tr>\n",
       "  </tbody>\n",
       "</table>\n",
       "</div>"
      ],
      "text/plain": [
       "  Weather_Condition  number  percentage\n",
       "0              Fair   65596    0.413578\n",
       "1            Cloudy   23714    0.149515\n",
       "2     Mostly Cloudy   20088    0.126653\n",
       "3     Partly Cloudy   13350    0.084171\n",
       "4        Light Rain   13241    0.083484\n",
       "5        Light Snow    3513    0.022149\n",
       "6          Overcast    3360    0.021185\n",
       "7              Rain    2968    0.018713\n",
       "8               Fog    2591    0.016336\n",
       "9              Haze    1537    0.009691"
      ]
     },
     "execution_count": 8,
     "metadata": {},
     "output_type": "execute_result"
    }
   ],
   "source": [
    "%%bigquery\n",
    "SELECT Weather_Condition,  COUNT(ID) as number, ROUND( COUNT(ID)/(SELECT COUNT(ID) FROM `ba775-project-team1.dataset_demo.sample_table`  ),6) AS percentage FROM `ba775-project-team1.dataset_demo.sample_table` \n",
    "GROUP BY Weather_Condition\n",
    "ORDER BY number desc\n",
    "LIMIT 10"
   ]
  },
  {
   "cell_type": "code",
   "execution_count": 13,
   "id": "584f1d76",
   "metadata": {},
   "outputs": [
    {
     "name": "stderr",
     "output_type": "stream",
     "text": [
      "Query complete after 0.00s: 100%|██████████| 1/1 [00:00<00:00, 969.56query/s] \n",
      "Downloading: 100%|██████████| 1/1 [00:01<00:00,  1.31s/rows]\n"
     ]
    },
    {
     "data": {
      "text/html": [
       "<div>\n",
       "<style scoped>\n",
       "    .dataframe tbody tr th:only-of-type {\n",
       "        vertical-align: middle;\n",
       "    }\n",
       "\n",
       "    .dataframe tbody tr th {\n",
       "        vertical-align: top;\n",
       "    }\n",
       "\n",
       "    .dataframe thead th {\n",
       "        text-align: right;\n",
       "    }\n",
       "</style>\n",
       "<table border=\"1\" class=\"dataframe\">\n",
       "  <thead>\n",
       "    <tr style=\"text-align: right;\">\n",
       "      <th></th>\n",
       "      <th>f0_</th>\n",
       "    </tr>\n",
       "  </thead>\n",
       "  <tbody>\n",
       "    <tr>\n",
       "      <th>0</th>\n",
       "      <td>0.857401</td>\n",
       "    </tr>\n",
       "  </tbody>\n",
       "</table>\n",
       "</div>"
      ],
      "text/plain": [
       "        f0_\n",
       "0  0.857401"
      ]
     },
     "execution_count": 13,
     "metadata": {},
     "output_type": "execute_result"
    }
   ],
   "source": [
    "%%bigquery\n",
    "\n",
    "select SUM(percentage) FROM \n",
    "( SELECT Weather_Condition,  COUNT(ID) as number, ROUND( COUNT(ID)/(SELECT COUNT(ID) FROM `ba775-project-team1.dataset_demo.sample_table`  ),6) AS percentage FROM `ba775-project-team1.dataset_demo.sample_table` \n",
    "GROUP BY Weather_Condition\n",
    "ORDER BY number desc\n",
    "LIMIT 5 )"
   ]
  },
  {
   "cell_type": "markdown",
   "id": "e86e4e28",
   "metadata": {},
   "source": [
    "<img src=\"https://github.com/yinghaow525/BA775-teamproject/blob/charts/weather_condition%20pie%20chart.png?raw=True\" align=\"left\" width=\"500\"/>"
   ]
  },
  {
   "cell_type": "markdown",
   "id": "4f24615b",
   "metadata": {},
   "source": [
    "How severe the traffic accident is under different weather conditions?\n",
    "Most of the traffic accidents happened in all kinds of weather conditions are in a severity of 2."
   ]
  },
  {
   "cell_type": "code",
   "execution_count": 14,
   "id": "8214c365",
   "metadata": {},
   "outputs": [
    {
     "name": "stderr",
     "output_type": "stream",
     "text": [
      "Query complete after 0.00s: 100%|██████████| 1/1 [00:00<00:00, 862.14query/s] \n",
      "Downloading: 100%|██████████| 10/10 [00:01<00:00,  7.31rows/s]\n"
     ]
    },
    {
     "data": {
      "text/html": [
       "<div>\n",
       "<style scoped>\n",
       "    .dataframe tbody tr th:only-of-type {\n",
       "        vertical-align: middle;\n",
       "    }\n",
       "\n",
       "    .dataframe tbody tr th {\n",
       "        vertical-align: top;\n",
       "    }\n",
       "\n",
       "    .dataframe thead th {\n",
       "        text-align: right;\n",
       "    }\n",
       "</style>\n",
       "<table border=\"1\" class=\"dataframe\">\n",
       "  <thead>\n",
       "    <tr style=\"text-align: right;\">\n",
       "      <th></th>\n",
       "      <th>Severity</th>\n",
       "      <th>Weather_Condition</th>\n",
       "      <th>number</th>\n",
       "      <th>percentage</th>\n",
       "    </tr>\n",
       "  </thead>\n",
       "  <tbody>\n",
       "    <tr>\n",
       "      <th>0</th>\n",
       "      <td>2</td>\n",
       "      <td>Fair</td>\n",
       "      <td>53899</td>\n",
       "      <td>0.339830</td>\n",
       "    </tr>\n",
       "    <tr>\n",
       "      <th>1</th>\n",
       "      <td>2</td>\n",
       "      <td>Cloudy</td>\n",
       "      <td>19035</td>\n",
       "      <td>0.120014</td>\n",
       "    </tr>\n",
       "    <tr>\n",
       "      <th>2</th>\n",
       "      <td>2</td>\n",
       "      <td>Mostly Cloudy</td>\n",
       "      <td>15198</td>\n",
       "      <td>0.095822</td>\n",
       "    </tr>\n",
       "    <tr>\n",
       "      <th>3</th>\n",
       "      <td>2</td>\n",
       "      <td>Partly Cloudy</td>\n",
       "      <td>10374</td>\n",
       "      <td>0.065407</td>\n",
       "    </tr>\n",
       "    <tr>\n",
       "      <th>4</th>\n",
       "      <td>2</td>\n",
       "      <td>Light Rain</td>\n",
       "      <td>9315</td>\n",
       "      <td>0.058730</td>\n",
       "    </tr>\n",
       "    <tr>\n",
       "      <th>5</th>\n",
       "      <td>3</td>\n",
       "      <td>Fair</td>\n",
       "      <td>8396</td>\n",
       "      <td>0.052936</td>\n",
       "    </tr>\n",
       "    <tr>\n",
       "      <th>6</th>\n",
       "      <td>3</td>\n",
       "      <td>Mostly Cloudy</td>\n",
       "      <td>3730</td>\n",
       "      <td>0.023517</td>\n",
       "    </tr>\n",
       "    <tr>\n",
       "      <th>7</th>\n",
       "      <td>3</td>\n",
       "      <td>Cloudy</td>\n",
       "      <td>3513</td>\n",
       "      <td>0.022149</td>\n",
       "    </tr>\n",
       "    <tr>\n",
       "      <th>8</th>\n",
       "      <td>3</td>\n",
       "      <td>Light Rain</td>\n",
       "      <td>3285</td>\n",
       "      <td>0.020712</td>\n",
       "    </tr>\n",
       "    <tr>\n",
       "      <th>9</th>\n",
       "      <td>2</td>\n",
       "      <td>Light Snow</td>\n",
       "      <td>2414</td>\n",
       "      <td>0.015220</td>\n",
       "    </tr>\n",
       "  </tbody>\n",
       "</table>\n",
       "</div>"
      ],
      "text/plain": [
       "   Severity Weather_Condition  number  percentage\n",
       "0         2              Fair   53899    0.339830\n",
       "1         2            Cloudy   19035    0.120014\n",
       "2         2     Mostly Cloudy   15198    0.095822\n",
       "3         2     Partly Cloudy   10374    0.065407\n",
       "4         2        Light Rain    9315    0.058730\n",
       "5         3              Fair    8396    0.052936\n",
       "6         3     Mostly Cloudy    3730    0.023517\n",
       "7         3            Cloudy    3513    0.022149\n",
       "8         3        Light Rain    3285    0.020712\n",
       "9         2        Light Snow    2414    0.015220"
      ]
     },
     "execution_count": 14,
     "metadata": {},
     "output_type": "execute_result"
    }
   ],
   "source": [
    "%%bigquery\n",
    "SELECT Severity,Weather_Condition,  COUNT(ID) as number, ROUND( COUNT(ID)/(SELECT COUNT(ID) FROM `ba775-project-team1.dataset_demo.sample_table`  ),6) AS percentage FROM `ba775-project-team1.dataset_demo.sample_table` \n",
    "GROUP BY Weather_Condition, Severity \n",
    "ORDER BY number DESC\n",
    "LIMIT 10"
   ]
  },
  {
   "cell_type": "markdown",
   "id": "6ff1a125",
   "metadata": {},
   "source": [
    "<img src=\"https://github.com/yinghaow525/BA775-teamproject/blob/charts/Severity%20barchart.png?raw=True\" align=\"left\" width=\"600\"/>"
   ]
  },
  {
   "cell_type": "markdown",
   "id": "ba392eef",
   "metadata": {},
   "source": [
    "We put several weather factors into consideration: visibility, precipitation, temperature and wind speed.\n",
    "Take visibility distance as an example:"
   ]
  },
  {
   "cell_type": "code",
   "execution_count": 15,
   "id": "6a53eba7",
   "metadata": {},
   "outputs": [
    {
     "name": "stderr",
     "output_type": "stream",
     "text": [
      "Query complete after 0.00s: 100%|██████████| 3/3 [00:00<00:00, 1171.70query/s]                        \n",
      "Downloading: 100%|██████████| 12/12 [00:01<00:00,  7.62rows/s]\n"
     ]
    },
    {
     "data": {
      "text/html": [
       "<div>\n",
       "<style scoped>\n",
       "    .dataframe tbody tr th:only-of-type {\n",
       "        vertical-align: middle;\n",
       "    }\n",
       "\n",
       "    .dataframe tbody tr th {\n",
       "        vertical-align: top;\n",
       "    }\n",
       "\n",
       "    .dataframe thead th {\n",
       "        text-align: right;\n",
       "    }\n",
       "</style>\n",
       "<table border=\"1\" class=\"dataframe\">\n",
       "  <thead>\n",
       "    <tr style=\"text-align: right;\">\n",
       "      <th></th>\n",
       "      <th>Month</th>\n",
       "      <th>Visibility</th>\n",
       "      <th>num_of_accidents</th>\n",
       "    </tr>\n",
       "  </thead>\n",
       "  <tbody>\n",
       "    <tr>\n",
       "      <th>0</th>\n",
       "      <td>1</td>\n",
       "      <td>7.72</td>\n",
       "      <td>8796</td>\n",
       "    </tr>\n",
       "    <tr>\n",
       "      <th>1</th>\n",
       "      <td>2</td>\n",
       "      <td>7.71</td>\n",
       "      <td>8222</td>\n",
       "    </tr>\n",
       "    <tr>\n",
       "      <th>2</th>\n",
       "      <td>3</td>\n",
       "      <td>8.17</td>\n",
       "      <td>8257</td>\n",
       "    </tr>\n",
       "    <tr>\n",
       "      <th>3</th>\n",
       "      <td>4</td>\n",
       "      <td>8.92</td>\n",
       "      <td>12394</td>\n",
       "    </tr>\n",
       "    <tr>\n",
       "      <th>4</th>\n",
       "      <td>5</td>\n",
       "      <td>9.20</td>\n",
       "      <td>12073</td>\n",
       "    </tr>\n",
       "    <tr>\n",
       "      <th>5</th>\n",
       "      <td>6</td>\n",
       "      <td>9.51</td>\n",
       "      <td>12374</td>\n",
       "    </tr>\n",
       "    <tr>\n",
       "      <th>6</th>\n",
       "      <td>7</td>\n",
       "      <td>9.46</td>\n",
       "      <td>6195</td>\n",
       "    </tr>\n",
       "    <tr>\n",
       "      <th>7</th>\n",
       "      <td>8</td>\n",
       "      <td>9.23</td>\n",
       "      <td>7552</td>\n",
       "    </tr>\n",
       "    <tr>\n",
       "      <th>8</th>\n",
       "      <td>9</td>\n",
       "      <td>9.13</td>\n",
       "      <td>13388</td>\n",
       "    </tr>\n",
       "    <tr>\n",
       "      <th>9</th>\n",
       "      <td>10</td>\n",
       "      <td>8.98</td>\n",
       "      <td>19422</td>\n",
       "    </tr>\n",
       "    <tr>\n",
       "      <th>10</th>\n",
       "      <td>11</td>\n",
       "      <td>8.93</td>\n",
       "      <td>22432</td>\n",
       "    </tr>\n",
       "    <tr>\n",
       "      <th>11</th>\n",
       "      <td>12</td>\n",
       "      <td>8.56</td>\n",
       "      <td>27501</td>\n",
       "    </tr>\n",
       "  </tbody>\n",
       "</table>\n",
       "</div>"
      ],
      "text/plain": [
       "    Month  Visibility  num_of_accidents\n",
       "0       1        7.72              8796\n",
       "1       2        7.71              8222\n",
       "2       3        8.17              8257\n",
       "3       4        8.92             12394\n",
       "4       5        9.20             12073\n",
       "5       6        9.51             12374\n",
       "6       7        9.46              6195\n",
       "7       8        9.23              7552\n",
       "8       9        9.13             13388\n",
       "9      10        8.98             19422\n",
       "10     11        8.93             22432\n",
       "11     12        8.56             27501"
      ]
     },
     "execution_count": 15,
     "metadata": {},
     "output_type": "execute_result"
    }
   ],
   "source": [
    "%%bigquery\n",
    "SELECT Month, round(avg(Visibility_mi_),2) Visibility, count(*) num_of_accidents\n",
    "from `ba775-project-team1.dataset_demo.sample_table`\n",
    "GROUP BY Month\n",
    "ORDER BY Month"
   ]
  },
  {
   "cell_type": "markdown",
   "id": "f5f0f730",
   "metadata": {},
   "source": [
    "<img src='https://github.com/yinghaow525/BA775-teamproject/blob/charts/Weather%20Conditions.png?raw=True' width='600' align='left' />"
   ]
  },
  {
   "cell_type": "markdown",
   "id": "1d6f1d7f",
   "metadata": {},
   "source": [
    "Q: Did temperature affect the number of traffic accidents and severity accordingly?"
   ]
  },
  {
   "cell_type": "markdown",
   "id": "685357a9",
   "metadata": {},
   "source": [
    "A: The number of traffic accidents increased at the end of the year when temperatures were low. Level-2 severity accidents accounted for most of these late-year accidents, and the proportions of other level severity decreased."
   ]
  },
  {
   "cell_type": "code",
   "execution_count": 310,
   "id": "086e9843",
   "metadata": {},
   "outputs": [
    {
     "name": "stderr",
     "output_type": "stream",
     "text": [
      "Query complete after 0.00s: 100%|██████████| 1/1 [00:00<00:00, 956.73query/s] \n",
      "Downloading: 100%|██████████| 5/5 [00:01<00:00,  3.25rows/s]\n"
     ]
    },
    {
     "data": {
      "text/html": [
       "<div>\n",
       "<style scoped>\n",
       "    .dataframe tbody tr th:only-of-type {\n",
       "        vertical-align: middle;\n",
       "    }\n",
       "\n",
       "    .dataframe tbody tr th {\n",
       "        vertical-align: top;\n",
       "    }\n",
       "\n",
       "    .dataframe thead th {\n",
       "        text-align: right;\n",
       "    }\n",
       "</style>\n",
       "<table border=\"1\" class=\"dataframe\">\n",
       "  <thead>\n",
       "    <tr style=\"text-align: right;\">\n",
       "      <th></th>\n",
       "      <th>Month</th>\n",
       "      <th>Temperature</th>\n",
       "      <th>Severity</th>\n",
       "      <th>Count</th>\n",
       "    </tr>\n",
       "  </thead>\n",
       "  <tbody>\n",
       "    <tr>\n",
       "      <th>0</th>\n",
       "      <td>12</td>\n",
       "      <td>50.0</td>\n",
       "      <td>2</td>\n",
       "      <td>773</td>\n",
       "    </tr>\n",
       "    <tr>\n",
       "      <th>1</th>\n",
       "      <td>12</td>\n",
       "      <td>46.0</td>\n",
       "      <td>2</td>\n",
       "      <td>664</td>\n",
       "    </tr>\n",
       "    <tr>\n",
       "      <th>2</th>\n",
       "      <td>12</td>\n",
       "      <td>48.0</td>\n",
       "      <td>2</td>\n",
       "      <td>654</td>\n",
       "    </tr>\n",
       "    <tr>\n",
       "      <th>3</th>\n",
       "      <td>12</td>\n",
       "      <td>54.0</td>\n",
       "      <td>2</td>\n",
       "      <td>646</td>\n",
       "    </tr>\n",
       "    <tr>\n",
       "      <th>4</th>\n",
       "      <td>12</td>\n",
       "      <td>45.0</td>\n",
       "      <td>2</td>\n",
       "      <td>645</td>\n",
       "    </tr>\n",
       "  </tbody>\n",
       "</table>\n",
       "</div>"
      ],
      "text/plain": [
       "   Month  Temperature  Severity  Count\n",
       "0     12         50.0         2    773\n",
       "1     12         46.0         2    664\n",
       "2     12         48.0         2    654\n",
       "3     12         54.0         2    646\n",
       "4     12         45.0         2    645"
      ]
     },
     "execution_count": 310,
     "metadata": {},
     "output_type": "execute_result"
    }
   ],
   "source": [
    "%%bigquery\n",
    "SELECT Month, Temperature_F_ Temperature, Severity, COUNT(ID) Count\n",
    "FROM `ba775-project-team1.dataset_demo.sample_table_wpopulation`\n",
    "WHERE is_nan(Temperature_F_) = False\n",
    "GROUP BY Month, Severity, Temperature_F_\n",
    "ORDER BY COUNT(ID) DESC, Severity DESC, Month\n",
    "LIMIT 5"
   ]
  },
  {
   "cell_type": "markdown",
   "id": "99c3efcf",
   "metadata": {},
   "source": [
    "<img src=\"https://github.com/yinghaow525/BA775-teamproject/blob/charts/Temperature_Severity_Month.png?raw=True\" align=\"left\" width=\"500\"/>"
   ]
  },
  {
   "cell_type": "markdown",
   "id": "7c72fe20",
   "metadata": {},
   "source": [
    "#### Time:"
   ]
  },
  {
   "cell_type": "code",
   "execution_count": 5,
   "id": "f6b69c2d",
   "metadata": {},
   "outputs": [
    {
     "name": "stderr",
     "output_type": "stream",
     "text": [
      "Query complete after 0.00s: 100%|██████████| 3/3 [00:00<00:00, 1593.98query/s]                        \n",
      "Downloading: 100%|██████████| 5/5 [00:01<00:00,  3.18rows/s]\n"
     ]
    },
    {
     "data": {
      "text/html": [
       "<div>\n",
       "<style scoped>\n",
       "    .dataframe tbody tr th:only-of-type {\n",
       "        vertical-align: middle;\n",
       "    }\n",
       "\n",
       "    .dataframe tbody tr th {\n",
       "        vertical-align: top;\n",
       "    }\n",
       "\n",
       "    .dataframe thead th {\n",
       "        text-align: right;\n",
       "    }\n",
       "</style>\n",
       "<table border=\"1\" class=\"dataframe\">\n",
       "  <thead>\n",
       "    <tr style=\"text-align: right;\">\n",
       "      <th></th>\n",
       "      <th>Year</th>\n",
       "      <th>Year_accidents_n</th>\n",
       "    </tr>\n",
       "  </thead>\n",
       "  <tbody>\n",
       "    <tr>\n",
       "      <th>0</th>\n",
       "      <td>2016</td>\n",
       "      <td>2371</td>\n",
       "    </tr>\n",
       "    <tr>\n",
       "      <th>1</th>\n",
       "      <td>2017</td>\n",
       "      <td>5295</td>\n",
       "    </tr>\n",
       "    <tr>\n",
       "      <th>2</th>\n",
       "      <td>2018</td>\n",
       "      <td>7143</td>\n",
       "    </tr>\n",
       "    <tr>\n",
       "      <th>3</th>\n",
       "      <td>2019</td>\n",
       "      <td>47490</td>\n",
       "    </tr>\n",
       "    <tr>\n",
       "      <th>4</th>\n",
       "      <td>2020</td>\n",
       "      <td>96307</td>\n",
       "    </tr>\n",
       "  </tbody>\n",
       "</table>\n",
       "</div>"
      ],
      "text/plain": [
       "   Year  Year_accidents_n\n",
       "0  2016              2371\n",
       "1  2017              5295\n",
       "2  2018              7143\n",
       "3  2019             47490\n",
       "4  2020             96307"
      ]
     },
     "execution_count": 5,
     "metadata": {},
     "output_type": "execute_result"
    }
   ],
   "source": [
    "%%bigquery\n",
    "SELECT Year, COUNT(Year) AS Year_accidents_n\n",
    "FROM `ba775-project-team1.dataset_demo.sample_table_wpopulation`\n",
    "GROUP BY Year\n",
    "ORDER BY Year_accidents_n;"
   ]
  },
  {
   "cell_type": "markdown",
   "id": "a03ef251",
   "metadata": {},
   "source": [
    "The number of accidents in the U.S. has been increasing every year since 2016."
   ]
  },
  {
   "cell_type": "code",
   "execution_count": 3,
   "id": "32e9ccf1",
   "metadata": {},
   "outputs": [
    {
     "name": "stderr",
     "output_type": "stream",
     "text": [
      "Query complete after 0.00s: 100%|██████████| 1/1 [00:00<00:00, 784.42query/s] \n",
      "Downloading: 100%|██████████| 5/5 [00:02<00:00,  1.82rows/s]\n"
     ]
    },
    {
     "data": {
      "text/html": [
       "<div>\n",
       "<style scoped>\n",
       "    .dataframe tbody tr th:only-of-type {\n",
       "        vertical-align: middle;\n",
       "    }\n",
       "\n",
       "    .dataframe tbody tr th {\n",
       "        vertical-align: top;\n",
       "    }\n",
       "\n",
       "    .dataframe thead th {\n",
       "        text-align: right;\n",
       "    }\n",
       "</style>\n",
       "<table border=\"1\" class=\"dataframe\">\n",
       "  <thead>\n",
       "    <tr style=\"text-align: right;\">\n",
       "      <th></th>\n",
       "      <th>Year</th>\n",
       "      <th>Jan</th>\n",
       "      <th>Feb</th>\n",
       "      <th>Mar</th>\n",
       "      <th>Apr</th>\n",
       "      <th>May</th>\n",
       "      <th>Jun</th>\n",
       "      <th>Jul</th>\n",
       "      <th>Aug</th>\n",
       "      <th>Sep</th>\n",
       "      <th>Oct</th>\n",
       "      <th>Nov</th>\n",
       "      <th>Dec</th>\n",
       "    </tr>\n",
       "  </thead>\n",
       "  <tbody>\n",
       "    <tr>\n",
       "      <th>0</th>\n",
       "      <td>2016</td>\n",
       "      <td>0</td>\n",
       "      <td>23</td>\n",
       "      <td>36</td>\n",
       "      <td>120</td>\n",
       "      <td>65</td>\n",
       "      <td>112</td>\n",
       "      <td>199</td>\n",
       "      <td>302</td>\n",
       "      <td>309</td>\n",
       "      <td>319</td>\n",
       "      <td>376</td>\n",
       "      <td>510</td>\n",
       "    </tr>\n",
       "    <tr>\n",
       "      <th>1</th>\n",
       "      <td>2017</td>\n",
       "      <td>702</td>\n",
       "      <td>449</td>\n",
       "      <td>532</td>\n",
       "      <td>383</td>\n",
       "      <td>324</td>\n",
       "      <td>319</td>\n",
       "      <td>216</td>\n",
       "      <td>545</td>\n",
       "      <td>350</td>\n",
       "      <td>468</td>\n",
       "      <td>407</td>\n",
       "      <td>600</td>\n",
       "    </tr>\n",
       "    <tr>\n",
       "      <th>2</th>\n",
       "      <td>2018</td>\n",
       "      <td>794</td>\n",
       "      <td>626</td>\n",
       "      <td>736</td>\n",
       "      <td>524</td>\n",
       "      <td>478</td>\n",
       "      <td>379</td>\n",
       "      <td>270</td>\n",
       "      <td>373</td>\n",
       "      <td>590</td>\n",
       "      <td>639</td>\n",
       "      <td>900</td>\n",
       "      <td>834</td>\n",
       "    </tr>\n",
       "    <tr>\n",
       "      <th>3</th>\n",
       "      <td>2019</td>\n",
       "      <td>869</td>\n",
       "      <td>1289</td>\n",
       "      <td>549</td>\n",
       "      <td>4337</td>\n",
       "      <td>4223</td>\n",
       "      <td>3748</td>\n",
       "      <td>3833</td>\n",
       "      <td>4481</td>\n",
       "      <td>5737</td>\n",
       "      <td>6921</td>\n",
       "      <td>4851</td>\n",
       "      <td>6652</td>\n",
       "    </tr>\n",
       "    <tr>\n",
       "      <th>4</th>\n",
       "      <td>2020</td>\n",
       "      <td>6431</td>\n",
       "      <td>5835</td>\n",
       "      <td>6404</td>\n",
       "      <td>7030</td>\n",
       "      <td>6983</td>\n",
       "      <td>7816</td>\n",
       "      <td>1677</td>\n",
       "      <td>1851</td>\n",
       "      <td>6402</td>\n",
       "      <td>11075</td>\n",
       "      <td>15898</td>\n",
       "      <td>18905</td>\n",
       "    </tr>\n",
       "  </tbody>\n",
       "</table>\n",
       "</div>"
      ],
      "text/plain": [
       "   Year   Jan   Feb   Mar   Apr   May   Jun   Jul   Aug   Sep    Oct    Nov  \\\n",
       "0  2016     0    23    36   120    65   112   199   302   309    319    376   \n",
       "1  2017   702   449   532   383   324   319   216   545   350    468    407   \n",
       "2  2018   794   626   736   524   478   379   270   373   590    639    900   \n",
       "3  2019   869  1289   549  4337  4223  3748  3833  4481  5737   6921   4851   \n",
       "4  2020  6431  5835  6404  7030  6983  7816  1677  1851  6402  11075  15898   \n",
       "\n",
       "     Dec  \n",
       "0    510  \n",
       "1    600  \n",
       "2    834  \n",
       "3   6652  \n",
       "4  18905  "
      ]
     },
     "execution_count": 3,
     "metadata": {},
     "output_type": "execute_result"
    }
   ],
   "source": [
    "%%bigquery\n",
    "SELECT Year, \n",
    "   SUM(CASE WHEN Month = 1 THEN 1 ELSE 0 END) AS Jan,\n",
    "   SUM(CASE WHEN Month = 2 THEN 1 ELSE 0 END) AS Feb,\n",
    "   SUM(CASE WHEN Month = 3 THEN 1 ELSE 0 END) AS Mar,\n",
    "   SUM(CASE WHEN Month = 4 THEN 1 ELSE 0 END) AS Apr,\n",
    "   SUM(CASE WHEN Month = 5 THEN 1 ELSE 0 END) AS May,\n",
    "   SUM(CASE WHEN Month = 6 THEN 1 ELSE 0 END) AS Jun,\n",
    "   SUM(CASE WHEN Month = 7 THEN 1 ELSE 0 END) AS Jul,\n",
    "   SUM(CASE WHEN Month = 8 THEN 1 ELSE 0 END) AS Aug,\n",
    "   SUM(CASE WHEN Month = 9 THEN 1 ELSE 0 END) AS Sep,\n",
    "   SUM(CASE WHEN Month = 10 THEN 1 ELSE 0 END) AS Oct,\n",
    "   SUM(CASE WHEN Month = 11 THEN 1 ELSE 0 END) AS Nov,\n",
    "   SUM(CASE WHEN Month = 12 THEN 1 ELSE 0 END) AS Dec\n",
    "FROM `ba775-project-team1.dataset_demo.sample_table_wpopulation`\n",
    "GROUP BY Year\n",
    "ORDER BY Year;"
   ]
  },
  {
   "cell_type": "markdown",
   "id": "9deee7cb",
   "metadata": {},
   "source": [
    "In 2016, the most accidents occurred in December; \n",
    "In 2017, the most accidents in January;\n",
    "In 2018, the most accidents in November; \n",
    "In 2019, the most accidents in October; \n",
    "In 2020, the most accidents in December.\n",
    "This shows that the most accidents occur in the United States in the last quarter of the year."
   ]
  },
  {
   "cell_type": "code",
   "execution_count": null,
   "id": "18127af8",
   "metadata": {},
   "outputs": [],
   "source": [
    "%%bigquery\n",
    "SELECT Hour, Severity, COUNT(ID) AS Hour_accidents_n\n",
    "FROM `ba775-project-team1.dataset_demo.sample_table_wpopulation`\n",
    "GROUP BY Hour, Severity\n",
    "ORDER BY Hour;"
   ]
  },
  {
   "cell_type": "markdown",
   "id": "53ad507d",
   "metadata": {},
   "source": [
    "<img src=\"https://github.com/yinghaow525/BA775-teamproject/blob/charts/Hour%20%26%20Counts.png?raw=True\" align=\"left\" width=\"500\"/>"
   ]
  },
  {
   "cell_type": "markdown",
   "id": "f2e7bd0a",
   "metadata": {},
   "source": [
    "The hours of the day from 7:00 a.m. to 8:00 a.m. and 4:00 p.m. to 5:00 p.m. belong to the time of day when there are more accidents."
   ]
  },
  {
   "cell_type": "markdown",
   "id": "75618dd2",
   "metadata": {},
   "source": [
    "<img src=\"https://github.com/yinghaow525/BA775-teamproject/blob/charts/Hourly%20Accidents%20with%20Severity.png?raw=True\" align=\"left\" width=\"500\"/>"
   ]
  },
  {
   "cell_type": "markdown",
   "id": "93163d16",
   "metadata": {},
   "source": [
    "The severity of the accident was greatest at 4 p.m."
   ]
  },
  {
   "cell_type": "code",
   "execution_count": null,
   "id": "0d4a91d6",
   "metadata": {},
   "outputs": [],
   "source": [
    "%%bigquery\n",
    "SELECT Weekday, Severity, COUNT(ID) AS Weekday_accidents_n\n",
    "FROM `ba775-project-team1.dataset_demo.sample_table_wpopulation`\n",
    "GROUP BY Weekday, Severity\n",
    "ORDER BY Weekday_accidents_n;"
   ]
  },
  {
   "cell_type": "markdown",
   "id": "f4582d01",
   "metadata": {},
   "source": [
    "<img src=\"https://github.com/yinghaow525/BA775-teamproject/blob/charts/Weekday%20Accidents%20with%20Severity.png?raw=True\" align=\"left\" width=\"500\"/>"
   ]
  },
  {
   "cell_type": "markdown",
   "id": "0fdcad89",
   "metadata": {},
   "source": [
    "The number of accidents on a double holiday is less compared to a weekday."
   ]
  },
  {
   "cell_type": "markdown",
   "id": "cfa1e162",
   "metadata": {},
   "source": [
    "#### Conclusion:"
   ]
  },
  {
   "cell_type": "markdown",
   "id": "a50d04ba",
   "metadata": {},
   "source": [
    "After observing analysis on aspects in location, time and weather conditions, we report US traffic accidents the following:\n",
    "</br>\n",
    "Most traffic accidents occur in coastal areas, such as CA, OR, FL. However, the frequency of serious accidents in FL and NY is higher than that of other states. This might be caused by the excessive traffic and narrow roads in NY and non-pedestrian and bike-friendly roads in FL. For specific places such as railways and stations, because US traffic accidents between 2016 and 2020 generally happened away from railways and stations and occurred more often around traffic signals during morning peaks and noon breaks, police can strengthen their traffic control near crossroads during these periods to reduce accidents.\n",
    "</br>\n",
    "Over 80% of traffic accidents happened under the weather condition of fair, cloudy, mostly cloudy, partly cloudy and light rain. Most of these accidents have a severity of two, and we don’t see significant portion of accidents having severity of over two happened under other weather conditions. The number of traffic accidents increased as visibility distance went shorter, temperature and precipitation went lower. Thus, more accidents happened in winter. Therefore, DMV can make suggestions in the brochures to call on drive-safe attention specificly in winter.\n",
    "</br>\n",
    "In terms of time, we observed that the highest number of accidents occurred at 4:00 and 5:00 p.m. daily, respectively. The 4 - 5 pm is the peak time for off-duty travel. However, there were also a high number of accidents between 7am and 8am, at the peak of the workday. The number of accidents on weekdays is higher than weekends, and the severity is correspondingly higher. Therefore, the DMV can alert people to the need to be aware of outings during these hours and the need for drivers to maintain a careful and cautious attitude in order to reduce the number of accidents."
   ]
  }
 ],
 "metadata": {
  "environment": {
   "name": "tf2-gpu.2-3.m78",
   "type": "gcloud",
   "uri": "gcr.io/deeplearning-platform-release/tf2-gpu.2-3:m78"
  },
  "kernelspec": {
   "display_name": "Python 3",
   "language": "python",
   "name": "python3"
  },
  "language_info": {
   "codemirror_mode": {
    "name": "ipython",
    "version": 3
   },
   "file_extension": ".py",
   "mimetype": "text/x-python",
   "name": "python",
   "nbconvert_exporter": "python",
   "pygments_lexer": "ipython3",
   "version": "3.7.10"
  }
 },
 "nbformat": 4,
 "nbformat_minor": 5
}
